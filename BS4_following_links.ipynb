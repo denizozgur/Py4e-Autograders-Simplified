{
 "cells": [
  {
   "cell_type": "code",
   "execution_count": 34,
   "id": "5ba6d10e",
   "metadata": {},
   "outputs": [
    {
     "name": "stdout",
     "output_type": "stream",
     "text": [
      "http://py4e-data.dr-chuck.net/known_by_Athena.html\n"
     ]
    }
   ],
   "source": [
    "import urllib.request, urllib.parse, urllib.error\n",
    "from bs4 import BeautifulSoup\n",
    "import ssl\n",
    "from pprint import pprint\n",
    "\n",
    "context = ssl.create_default_context()\n",
    "context.check_hostname = False\n",
    "context.verify_mode = ssl.CERT_NONE\n",
    "#ignoring security \n",
    "url = 'http://py4e-data.dr-chuck.net/known_by_Zuniariah.html'\n",
    "#getting url\n",
    "for i in range(18):\n",
    "    data = urllib.request.urlopen(url,context=ctx).read()\n",
    "    s = BeautifulSoup(data,'html.parser')\n",
    "    # s is beatiful soup object that parses html\n",
    "    link = s.find_all('a')\n",
    "    #getting a\n",
    "    url = link[6].get('href')\n",
    "#in this loop we getting link from position 18 and repeating this 7 times as wanted \n",
    "\n",
    "\n",
    "print(url)"
   ]
  },
  {
   "cell_type": "code",
   "execution_count": null,
   "id": "cb80122f",
   "metadata": {},
   "outputs": [],
   "source": []
  },
  {
   "cell_type": "code",
   "execution_count": null,
   "id": "1a992319",
   "metadata": {},
   "outputs": [],
   "source": []
  },
  {
   "cell_type": "code",
   "execution_count": null,
   "id": "b7e1b698",
   "metadata": {},
   "outputs": [],
   "source": []
  },
  {
   "cell_type": "code",
   "execution_count": null,
   "id": "ec7eebe2",
   "metadata": {},
   "outputs": [],
   "source": []
  }
 ],
 "metadata": {
  "kernelspec": {
   "display_name": "Python 3 (ipykernel)",
   "language": "python",
   "name": "python3"
  },
  "language_info": {
   "codemirror_mode": {
    "name": "ipython",
    "version": 3
   },
   "file_extension": ".py",
   "mimetype": "text/x-python",
   "name": "python",
   "nbconvert_exporter": "python",
   "pygments_lexer": "ipython3",
   "version": "3.11.5"
  }
 },
 "nbformat": 4,
 "nbformat_minor": 5
}
