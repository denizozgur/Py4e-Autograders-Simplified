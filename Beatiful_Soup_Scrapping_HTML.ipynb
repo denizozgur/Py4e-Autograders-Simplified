{
 "cells": [
  {
   "cell_type": "code",
   "execution_count": 2,
   "id": "d07c48e8",
   "metadata": {},
   "outputs": [
    {
     "name": "stdout",
     "output_type": "stream",
     "text": [
      "Enter - http://py4e-data.dr-chuck.net/comments_1905441.html\n",
      "Count 50\n",
      "Sum 2427\n"
     ]
    }
   ],
   "source": [
    "from urllib.request import urlopen\n",
    "from bs4 import BeautifulSoup\n",
    "import ssl\n",
    "\n",
    "context = ssl.create_default_context()\n",
    "#new ssl object \n",
    "context.check_hostname = False\n",
    "#\n",
    "context.verify_mode = ssl.CERT_NONE\n",
    "#won't verify host name\n",
    "url = input('Enter - ')\n",
    "#gettingi url input\n",
    "html = urlopen(url, context=context).read()\n",
    "#fetches content from url. ctx allows relaxed security settings. reads content\n",
    "soup = BeautifulSoup(html, \"html.parser\")\n",
    "#makes BS object and parses HTML content\n",
    "total = 0\n",
    "count = 0\n",
    "tags = soup('span')\n",
    "for tag in tags:\n",
    "    content = tag.contents[0]\n",
    "    try:\n",
    "        number = int(content)\n",
    "        total = total + number\n",
    "        count = count + 1\n",
    "    except:\n",
    "        continue\n",
    "#this loop counts span tags\n",
    "print(\"Count\", count)\n",
    "print(\"Sum\", total)"
   ]
  },
  {
   "cell_type": "code",
   "execution_count": null,
   "id": "4df4787b",
   "metadata": {},
   "outputs": [],
   "source": []
  },
  {
   "cell_type": "code",
   "execution_count": null,
   "id": "d26f68fa",
   "metadata": {},
   "outputs": [],
   "source": []
  },
  {
   "cell_type": "code",
   "execution_count": null,
   "id": "189c38aa",
   "metadata": {},
   "outputs": [],
   "source": []
  },
  {
   "cell_type": "code",
   "execution_count": null,
   "id": "04ceaeba",
   "metadata": {},
   "outputs": [],
   "source": []
  },
  {
   "cell_type": "code",
   "execution_count": null,
   "id": "fcd0739f",
   "metadata": {},
   "outputs": [],
   "source": []
  },
  {
   "cell_type": "code",
   "execution_count": null,
   "id": "8ae431e4",
   "metadata": {},
   "outputs": [],
   "source": []
  },
  {
   "cell_type": "code",
   "execution_count": null,
   "id": "5bf387f7",
   "metadata": {},
   "outputs": [],
   "source": []
  }
 ],
 "metadata": {
  "kernelspec": {
   "display_name": "Python 3 (ipykernel)",
   "language": "python",
   "name": "python3"
  },
  "language_info": {
   "codemirror_mode": {
    "name": "ipython",
    "version": 3
   },
   "file_extension": ".py",
   "mimetype": "text/x-python",
   "name": "python",
   "nbconvert_exporter": "python",
   "pygments_lexer": "ipython3",
   "version": "3.11.5"
  }
 },
 "nbformat": 4,
 "nbformat_minor": 5
}
